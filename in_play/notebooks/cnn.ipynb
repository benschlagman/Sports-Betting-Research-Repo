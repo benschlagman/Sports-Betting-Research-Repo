{
 "cells": [
  {
   "cell_type": "code",
   "execution_count": 3,
   "metadata": {},
   "outputs": [],
   "source": [
    "import sys\n",
    "import torch\n",
    "import torch.nn as nn\n",
    "from torch.utils.data import DataLoader, TensorDataset\n",
    "from sklearn.preprocessing import MinMaxScaler\n",
    "from sklearn.metrics import accuracy_score, precision_score, recall_score, f1_score\n",
    "\n",
    "import matplotlib.pyplot as plt\n",
    "import numpy as np\n",
    "from tqdm import tqdm\n",
    "\n",
    "sys.path.append('..')\n",
    "from utils.utils import process_multiple_markets_cnn\n",
    "from utils.data_utils import DataPreprocessor\n",
    "from models.cnn import CNN\n"
   ]
  },
  {
   "cell_type": "code",
   "execution_count": 2,
   "metadata": {},
   "outputs": [
    {
     "name": "stdout",
     "output_type": "stream",
     "text": [
      "Total number of files retrieved from 'Soccer/PRO/2023/Jan': '107219'\n",
      "Error decompressing file: Soccer/PRO/2023/Jan/1/31954040/1.207324786.bz2\n",
      "Error decompressing file: Soccer/PRO/2023/Jan/1/31954040/1.207324793.bz2\n",
      "Error decompressing file: Soccer/PRO/2023/Jan/1/31954040/1.207324859.bz2\n",
      "Error decompressing file: Soccer/PRO/2023/Jan/1/31954040/1.207324864.bz2\n",
      "Error decompressing file: Soccer/PRO/2023/Jan/1/31954040/1.207324876.bz2\n",
      "Error decompressing file: Soccer/PRO/2023/Jan/1/31954040/1.207324917.bz2\n",
      "Finished handling 'Soccer/PRO/2023/Jan/1/31954039/1.207325009.bz2 with thread id: 123145599111168'\n",
      "\n",
      "Finished handling 'Soccer/PRO/2023/Jan/1/31954040/1.207324870.bz2 with thread id: 123145716637696'\n",
      "\n",
      "(445, 10, 15) (445, 3)\n"
     ]
    }
   ],
   "source": [
    "data_preprocessor = DataPreprocessor()\n",
    "df_per_match = data_preprocessor.extract_match_data()\n",
    "\n",
    "X_train, y_train, X_val, y_val, X_test, y_test = process_multiple_markets_cnn(df_per_match)\n",
    "print(X_train.shape, y_train.shape)"
   ]
  },
  {
   "cell_type": "code",
   "execution_count": 6,
   "metadata": {},
   "outputs": [],
   "source": [
    "X_train = np.load('data/X_train_cnn.npy')\n",
    "y_train = np.load('data/y_train_cnn.npy')\n",
    "X_val = np.load('data/X_val_cnn.npy')\n",
    "y_val = np.load('data/y_val_cnn.npy')\n",
    "X_test = np.load('data/X_test_cnn.npy')\n",
    "y_test = np.load('data/y_test_cnn.npy')"
   ]
  },
  {
   "cell_type": "code",
   "execution_count": 7,
   "metadata": {},
   "outputs": [],
   "source": [
    "def normalize_data(X_train, X_val, X_test):\n",
    "    # Initialize the scaler\n",
    "    scaler = MinMaxScaler()\n",
    "\n",
    "    # Fit the scaler on the training data (only on the features, not the labels)\n",
    "    scaler.fit(X_train.reshape(-1, X_train.shape[-1]))\n",
    "\n",
    "    # Transform the training, validation, and test data\n",
    "    X_train_normalized = scaler.transform(X_train.reshape(-1, X_train.shape[-1])).reshape(X_train.shape)\n",
    "    X_val_normalized = scaler.transform(X_val.reshape(-1, X_val.shape[-1])).reshape(X_val.shape)\n",
    "    X_test_normalized = scaler.transform(X_test.reshape(-1, X_test.shape[-1])).reshape(X_test.shape)\n",
    "\n",
    "    return X_train_normalized, X_val_normalized, X_test_normalized\n",
    "\n",
    "X_train_normalized, X_val_normalized, X_test_normalized = normalize_data(X_train, X_val, X_test)"
   ]
  },
  {
   "cell_type": "code",
   "execution_count": 8,
   "metadata": {},
   "outputs": [
    {
     "data": {
      "text/plain": [
       "(torch.Size([64, 10, 15]), torch.Size([64, 3]))"
      ]
     },
     "execution_count": 8,
     "metadata": {},
     "output_type": "execute_result"
    }
   ],
   "source": [
    "def prepare_data_loaders(X_train, y_train, X_val, y_val, X_test, y_test, batch_size=64):\n",
    "\n",
    "    X_train_tensor = torch.tensor(X_train, dtype=torch.float32)\n",
    "    y_train_tensor = torch.tensor(y_train, dtype=torch.float32)\n",
    "    X_val_tensor = torch.tensor(X_val, dtype=torch.float32)\n",
    "    y_val_tensor = torch.tensor(y_val, dtype=torch.float32)\n",
    "    X_test_tensor = torch.tensor(X_test, dtype=torch.float32)\n",
    "    y_test_tensor = torch.tensor(y_test, dtype=torch.float32)\n",
    "    \n",
    "    train_dataset = TensorDataset(X_train_tensor, y_train_tensor)\n",
    "    val_dataset = TensorDataset(X_val_tensor, y_val_tensor)\n",
    "    test_dataset = TensorDataset(X_test_tensor, y_test_tensor)\n",
    "    \n",
    "    train_loader = DataLoader(train_dataset, batch_size=batch_size, shuffle=True)\n",
    "    val_loader = DataLoader(val_dataset, batch_size=batch_size, shuffle=False)\n",
    "    test_loader = DataLoader(test_dataset, batch_size=batch_size, shuffle=False)\n",
    "    \n",
    "    return train_loader, val_loader, test_loader\n",
    "\n",
    "train_loader, val_loader, test_loader = prepare_data_loaders(X_train_normalized, y_train, X_val_normalized, y_val, X_test_normalized, y_test)\n",
    "X_item, y_item = next(iter(train_loader))\n",
    "X_item.shape, y_item.shape"
   ]
  },
  {
   "cell_type": "markdown",
   "metadata": {},
   "source": [
    "# Model Training"
   ]
  },
  {
   "cell_type": "code",
   "execution_count": 9,
   "metadata": {},
   "outputs": [],
   "source": [
    "def train_model(model, train_loader, val_loader, criterion, optimizer, num_epochs):\n",
    "    # Initialize lists to store loss values\n",
    "    train_losses = []\n",
    "    val_losses = []\n",
    "\n",
    "    # Initialize the tqdm progress bar\n",
    "    pbar = tqdm(range(num_epochs), desc=\"Training\", unit=\"epoch\")\n",
    "\n",
    "    for epoch in pbar:\n",
    "        model.train()\n",
    "        running_loss = 0.0\n",
    "\n",
    "        for sequences, labels in train_loader:\n",
    "            optimizer.zero_grad()\n",
    "            outputs = model(sequences)  # outputs shape: [batch_size, num_runners, num_classes]\n",
    "            outputs = outputs.permute(0, 2, 1).contiguous().view(-1, 2)  # Reshape for loss: [batch_size * num_runners, num_classes]\n",
    "            labels = labels.view(-1)  # Reshape labels for loss: [batch_size * num_runners]\n",
    "            loss = criterion(outputs, labels.long())\n",
    "            loss.backward()\n",
    "            optimizer.step()\n",
    "\n",
    "            running_loss += loss.item()\n",
    "\n",
    "        avg_train_loss = running_loss / len(train_loader)\n",
    "        train_losses.append(avg_train_loss)\n",
    "\n",
    "        # Validation phase\n",
    "        model.eval()\n",
    "        val_running_loss = 0.0\n",
    "        with torch.no_grad():\n",
    "            for sequences, labels in val_loader:\n",
    "                outputs = model(sequences)\n",
    "                outputs = outputs.permute(0, 2, 1).contiguous().view(-1, 2)\n",
    "                labels = labels.view(-1)\n",
    "                val_loss = criterion(outputs, labels.long())\n",
    "                val_running_loss += val_loss.item()\n",
    "\n",
    "        avg_val_loss = val_running_loss / len(val_loader)\n",
    "        val_losses.append(avg_val_loss)\n",
    "\n",
    "        # Update the progress bar with training and validation loss\n",
    "        pbar.set_postfix({'Train Loss': f'{avg_train_loss:.4f}', 'Val Loss': f'{avg_val_loss:.4f}'})\n",
    "    \n",
    "    # Return the lists of training and validation losses\n",
    "    return train_losses, val_losses\n"
   ]
  },
  {
   "cell_type": "code",
   "execution_count": 10,
   "metadata": {},
   "outputs": [
    {
     "name": "stderr",
     "output_type": "stream",
     "text": [
      "Python(99283) MallocStackLogging: can't turn off malloc stack logging because it was not enabled.\n",
      "Training: 100%|██████████| 10/10 [00:21<00:00,  2.11s/epoch, Train Loss=0.6095, Val Loss=0.6743]\n"
     ]
    }
   ],
   "source": [
    "# Update the number of classes to 2 for binary classification\n",
    "input_dim = torch.tensor(X_train, dtype=torch.float32).shape[2]  # Number of features per time step\n",
    "sequence_length = torch.tensor(X_train, dtype=torch.float32).shape[1]  # Length of the input sequence\n",
    "\n",
    "num_classes = 2  # Up or Down\n",
    "\n",
    "# Re-initialize the model with 2 classes\n",
    "model = CNN(input_dim=input_dim, sequence_length=sequence_length, num_classes=num_classes, num_runners=3)\n",
    "criterion = nn.CrossEntropyLoss()\n",
    "optimizer = torch.optim.Adam(model.parameters(), lr=0.00001)\n",
    "num_epochs = 10\n",
    "\n",
    "# Train the model with the updated dataset and binary classification\n",
    "train_losses, val_losses = train_model(model, train_loader, val_loader, criterion, optimizer, num_epochs)\n"
   ]
  },
  {
   "cell_type": "code",
   "execution_count": 11,
   "metadata": {},
   "outputs": [
    {
     "data": {
      "image/png": "[encoded data removed]",
      "text/plain": [
       "<Figure size 640x480 with 1 Axes>"
      ]
     },
     "metadata": {},
     "output_type": "display_data"
    }
   ],
   "source": [
    "plt.plot(train_losses, label='Training Loss')\n",
    "plt.plot(val_losses, label='Validation Loss')\n",
    "plt.xlabel('Epochs')\n",
    "plt.ylabel('Loss')\n",
    "plt.title('Training and Validation Loss Over Epochs')\n",
    "plt.legend()\n",
    "plt.show()"
   ]
  },
  {
   "cell_type": "code",
   "execution_count": 12,
   "metadata": {},
   "outputs": [
    {
     "name": "stdout",
     "output_type": "stream",
     "text": [
      "Runner 1 - Accuracy: 0.6059, Precision: 0.0000, Recall: 0.0000, F1-score: 0.0000\n",
      "Runner 2 - Accuracy: 0.5738, Precision: 0.5738, Recall: 1.0000, F1-score: 0.7292\n",
      "Runner 3 - Accuracy: 0.6343, Precision: 0.0000, Recall: 0.0000, F1-score: 0.0000\n"
     ]
    },
    {
     "name": "stderr",
     "output_type": "stream",
     "text": [
      "/usr/local/lib/python3.10/site-packages/sklearn/metrics/_classification.py:1469: UndefinedMetricWarning: Precision is ill-defined and being set to 0.0 due to no predicted samples. Use `zero_division` parameter to control this behavior.\n",
      "  _warn_prf(average, modifier, msg_start, len(result))\n",
      "/usr/local/lib/python3.10/site-packages/sklearn/metrics/_classification.py:1469: UndefinedMetricWarning: Precision is ill-defined and being set to 0.0 due to no predicted samples. Use `zero_division` parameter to control this behavior.\n",
      "  _warn_prf(average, modifier, msg_start, len(result))\n"
     ]
    }
   ],
   "source": [
    "def evaluate_model(model, loader):\n",
    "    model.eval()\n",
    "    all_predictions = []\n",
    "    all_labels = []\n",
    "    with torch.no_grad():\n",
    "        for sequences, labels in loader:\n",
    "            outputs = model(sequences)  # outputs shape: [batch_size, num_runners, num_classes]\n",
    "            _, preds = torch.max(outputs, 2)  # Get the index of the max log-probability for each runner\n",
    "            all_predictions.append(preds.numpy())\n",
    "            all_labels.append(labels.numpy())\n",
    "\n",
    "    all_predictions = np.concatenate(all_predictions, axis=0)\n",
    "    all_labels = np.concatenate(all_labels, axis=0)\n",
    "\n",
    "    return all_labels, all_predictions\n",
    "    \n",
    "def evaluate_on_test_set(model, test_loader, num_runners=3):\n",
    "    labels, predictions = evaluate_model(model, test_loader)\n",
    "\n",
    "    for i in range(num_runners):\n",
    "        runner_labels = labels[:, i]\n",
    "        runner_predictions = predictions[:, i]\n",
    "\n",
    "        accuracy = accuracy_score(runner_labels, runner_predictions)\n",
    "        precision = precision_score(runner_labels, runner_predictions, average='binary')\n",
    "        recall = recall_score(runner_labels, runner_predictions, average='binary')\n",
    "        f1 = f1_score(runner_labels, runner_predictions, average='binary')\n",
    "\n",
    "        print(f'Runner {i+1} - Accuracy: {accuracy:.4f}, Precision: {precision:.4f}, Recall: {recall:.4f}, F1-score: {f1:.4f}')\n",
    "\n",
    "# Evaluate the model on the test set\n",
    "evaluate_on_test_set(model, test_loader)"
   ]
  },
  {
   "cell_type": "code",
   "execution_count": null,
   "metadata": {},
   "outputs": [],
   "source": []
  }
 ],
 "metadata": {
  "language_info": {
   "name": "python"
  }
 },
 "nbformat": 4,
 "nbformat_minor": 2
}
